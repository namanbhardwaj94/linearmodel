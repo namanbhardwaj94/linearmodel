{
 "metadata": {
  "language_info": {
   "codemirror_mode": {
    "name": "ipython",
    "version": 3
   },
   "file_extension": ".py",
   "mimetype": "text/x-python",
   "name": "python",
   "nbconvert_exporter": "python",
   "pygments_lexer": "ipython3",
   "version": "3.7.6-final"
  },
  "orig_nbformat": 2,
  "kernelspec": {
   "name": "Python 3.7.6 64-bit",
   "display_name": "Python 3.7.6 64-bit",
   "metadata": {
    "interpreter": {
     "hash": "0600588c3b5f4418cbe7b5ebc6825b479f3bc010269d8b60d75058cdd010adfe"
    }
   }
  }
 },
 "nbformat": 4,
 "nbformat_minor": 2,
 "cells": [
  {
   "cell_type": "code",
   "execution_count": 59,
   "metadata": {},
   "outputs": [],
   "source": [
    "import tensorflow as tf\n",
    "import numpy as np\n",
    "from tensorflow import keras\n",
    "import pandas as pd\n",
    "\n"
   ]
  },
  {
   "cell_type": "code",
   "execution_count": 60,
   "metadata": {},
   "outputs": [
    {
     "output_type": "execute_result",
     "data": {
      "text/plain": "                     date          price  bedrooms  bathrooms  sqft_living  \\\n4595  2014-07-09 00:00:00  308166.666667       3.0       1.75         1510   \n4596  2014-07-09 00:00:00  534333.333333       3.0       2.50         1460   \n4597  2014-07-09 00:00:00  416904.166667       3.0       2.50         3010   \n4598  2014-07-10 00:00:00  203400.000000       4.0       2.00         2090   \n4599  2014-07-10 00:00:00  220600.000000       3.0       2.50         1490   \n\n      sqft_lot  floors  waterfront  view  condition  sqft_above  \\\n4595      6360     1.0           0     0          4        1510   \n4596      7573     2.0           0     0          3        1460   \n4597      7014     2.0           0     0          3        3010   \n4598      6630     1.0           0     0          3        1070   \n4599      8102     2.0           0     0          4        1490   \n\n      sqft_basement  yr_built  yr_renovated             street       city  \\\n4595              0      1954          1979     501 N 143rd St    Seattle   \n4596              0      1983          2009   14855 SE 10th Pl   Bellevue   \n4597              0      2009             0   759 Ilwaco Pl NE     Renton   \n4598           1020      1974             0  5148 S Creston St    Seattle   \n4599              0      1990             0  18717 SE 258th St  Covington   \n\n      statezip country  \n4595  WA 98133     USA  \n4596  WA 98007     USA  \n4597  WA 98059     USA  \n4598  WA 98178     USA  \n4599  WA 98042     USA  ",
      "text/html": "<div>\n<style scoped>\n    .dataframe tbody tr th:only-of-type {\n        vertical-align: middle;\n    }\n\n    .dataframe tbody tr th {\n        vertical-align: top;\n    }\n\n    .dataframe thead th {\n        text-align: right;\n    }\n</style>\n<table border=\"1\" class=\"dataframe\">\n  <thead>\n    <tr style=\"text-align: right;\">\n      <th></th>\n      <th>date</th>\n      <th>price</th>\n      <th>bedrooms</th>\n      <th>bathrooms</th>\n      <th>sqft_living</th>\n      <th>sqft_lot</th>\n      <th>floors</th>\n      <th>waterfront</th>\n      <th>view</th>\n      <th>condition</th>\n      <th>sqft_above</th>\n      <th>sqft_basement</th>\n      <th>yr_built</th>\n      <th>yr_renovated</th>\n      <th>street</th>\n      <th>city</th>\n      <th>statezip</th>\n      <th>country</th>\n    </tr>\n  </thead>\n  <tbody>\n    <tr>\n      <th>4595</th>\n      <td>2014-07-09 00:00:00</td>\n      <td>308166.666667</td>\n      <td>3.0</td>\n      <td>1.75</td>\n      <td>1510</td>\n      <td>6360</td>\n      <td>1.0</td>\n      <td>0</td>\n      <td>0</td>\n      <td>4</td>\n      <td>1510</td>\n      <td>0</td>\n      <td>1954</td>\n      <td>1979</td>\n      <td>501 N 143rd St</td>\n      <td>Seattle</td>\n      <td>WA 98133</td>\n      <td>USA</td>\n    </tr>\n    <tr>\n      <th>4596</th>\n      <td>2014-07-09 00:00:00</td>\n      <td>534333.333333</td>\n      <td>3.0</td>\n      <td>2.50</td>\n      <td>1460</td>\n      <td>7573</td>\n      <td>2.0</td>\n      <td>0</td>\n      <td>0</td>\n      <td>3</td>\n      <td>1460</td>\n      <td>0</td>\n      <td>1983</td>\n      <td>2009</td>\n      <td>14855 SE 10th Pl</td>\n      <td>Bellevue</td>\n      <td>WA 98007</td>\n      <td>USA</td>\n    </tr>\n    <tr>\n      <th>4597</th>\n      <td>2014-07-09 00:00:00</td>\n      <td>416904.166667</td>\n      <td>3.0</td>\n      <td>2.50</td>\n      <td>3010</td>\n      <td>7014</td>\n      <td>2.0</td>\n      <td>0</td>\n      <td>0</td>\n      <td>3</td>\n      <td>3010</td>\n      <td>0</td>\n      <td>2009</td>\n      <td>0</td>\n      <td>759 Ilwaco Pl NE</td>\n      <td>Renton</td>\n      <td>WA 98059</td>\n      <td>USA</td>\n    </tr>\n    <tr>\n      <th>4598</th>\n      <td>2014-07-10 00:00:00</td>\n      <td>203400.000000</td>\n      <td>4.0</td>\n      <td>2.00</td>\n      <td>2090</td>\n      <td>6630</td>\n      <td>1.0</td>\n      <td>0</td>\n      <td>0</td>\n      <td>3</td>\n      <td>1070</td>\n      <td>1020</td>\n      <td>1974</td>\n      <td>0</td>\n      <td>5148 S Creston St</td>\n      <td>Seattle</td>\n      <td>WA 98178</td>\n      <td>USA</td>\n    </tr>\n    <tr>\n      <th>4599</th>\n      <td>2014-07-10 00:00:00</td>\n      <td>220600.000000</td>\n      <td>3.0</td>\n      <td>2.50</td>\n      <td>1490</td>\n      <td>8102</td>\n      <td>2.0</td>\n      <td>0</td>\n      <td>0</td>\n      <td>4</td>\n      <td>1490</td>\n      <td>0</td>\n      <td>1990</td>\n      <td>0</td>\n      <td>18717 SE 258th St</td>\n      <td>Covington</td>\n      <td>WA 98042</td>\n      <td>USA</td>\n    </tr>\n  </tbody>\n</table>\n</div>"
     },
     "metadata": {},
     "execution_count": 60
    }
   ],
   "source": [
    "df = pd.read_csv('data.csv')\n",
    "output = pd.read_csv('output.csv')\n",
    "X = output.drop(columns=['price'])\n",
    "Y = output[['price']]\n",
    "ydf = df[['price']]\n",
    "df.tail()\n",
    "\n"
   ]
  },
  {
   "cell_type": "code",
   "execution_count": 61,
   "metadata": {
    "tags": []
   },
   "outputs": [],
   "source": [
    "\n",
    "from sklearn.model_selection import train_test_split\n",
    "xval, xtest, yval, ytest = train_test_split(X, Y, test_size = 0.5)"
   ]
  },
  {
   "cell_type": "code",
   "execution_count": 62,
   "metadata": {
    "tags": []
   },
   "outputs": [],
   "source": [
    "cols = [0,1,7,8,12,13,16,17]\n",
    "df.drop(df.columns[cols],axis=1,inplace=True)\n",
    "\n",
    "\n",
    "     "
   ]
  },
  {
   "cell_type": "code",
   "execution_count": 66,
   "metadata": {},
   "outputs": [],
   "source": [
    "cols = [0,6,7,11,12,15,16]\n",
    "xval.drop(xval.columns[cols],axis=1,inplace=True)\n",
    "xtest.drop(xtest.columns[cols],axis=1,inplace=True)"
   ]
  },
  {
   "cell_type": "code",
   "execution_count": 69,
   "metadata": {
    "tags": []
   },
   "outputs": [],
   "source": [
    "def house_model(y_new):\n",
    "    \n",
    "    model = tf.keras.Sequential([keras.layers.Dense(units= 10,activation= 'relu', input_shape = (10,)),\n",
    "    keras.layers.Dense(units= 10, activation= 'relu'),\n",
    "    keras.layers.Dense(units=1)])\n",
    "    model.compile(optimizer='adam', loss='mean_squared_error',metrics=['acc'])\n",
    "    model.fit(df, ydf, epochs=20,validation_data=(xval,yval) )\n",
    "    return model.predict(y_new)[0]"
   ]
  },
  {
   "cell_type": "code",
   "execution_count": 68,
   "metadata": {},
   "outputs": [
    {
     "output_type": "execute_result",
     "data": {
      "text/plain": "   bedrooms  bathrooms  sqft_living  sqft_lot  floors  condition  sqft_above  \\\n0       3.0       1.50         1340      7912     1.5          3        1340   \n1       5.0       2.50         3650      9050     2.0          5        3370   \n2       3.0       2.00         1930     11947     1.0          4        1930   \n3       3.0       2.25         2000      8030     1.0          4        1000   \n4       4.0       2.50         1940     10500     1.0          4        1140   \n\n   sqft_basement                    street       city  \n0              0      18810 Densmore Ave N  Shoreline  \n1            280           709 W Blaine St    Seattle  \n2              0  26206-26214 143rd Ave SE       Kent  \n3           1000           857 170th Pl NE   Bellevue  \n4            800         9105 170th Ave NE    Redmond  ",
      "text/html": "<div>\n<style scoped>\n    .dataframe tbody tr th:only-of-type {\n        vertical-align: middle;\n    }\n\n    .dataframe tbody tr th {\n        vertical-align: top;\n    }\n\n    .dataframe thead th {\n        text-align: right;\n    }\n</style>\n<table border=\"1\" class=\"dataframe\">\n  <thead>\n    <tr style=\"text-align: right;\">\n      <th></th>\n      <th>bedrooms</th>\n      <th>bathrooms</th>\n      <th>sqft_living</th>\n      <th>sqft_lot</th>\n      <th>floors</th>\n      <th>condition</th>\n      <th>sqft_above</th>\n      <th>sqft_basement</th>\n      <th>street</th>\n      <th>city</th>\n    </tr>\n  </thead>\n  <tbody>\n    <tr>\n      <th>0</th>\n      <td>3.0</td>\n      <td>1.50</td>\n      <td>1340</td>\n      <td>7912</td>\n      <td>1.5</td>\n      <td>3</td>\n      <td>1340</td>\n      <td>0</td>\n      <td>18810 Densmore Ave N</td>\n      <td>Shoreline</td>\n    </tr>\n    <tr>\n      <th>1</th>\n      <td>5.0</td>\n      <td>2.50</td>\n      <td>3650</td>\n      <td>9050</td>\n      <td>2.0</td>\n      <td>5</td>\n      <td>3370</td>\n      <td>280</td>\n      <td>709 W Blaine St</td>\n      <td>Seattle</td>\n    </tr>\n    <tr>\n      <th>2</th>\n      <td>3.0</td>\n      <td>2.00</td>\n      <td>1930</td>\n      <td>11947</td>\n      <td>1.0</td>\n      <td>4</td>\n      <td>1930</td>\n      <td>0</td>\n      <td>26206-26214 143rd Ave SE</td>\n      <td>Kent</td>\n    </tr>\n    <tr>\n      <th>3</th>\n      <td>3.0</td>\n      <td>2.25</td>\n      <td>2000</td>\n      <td>8030</td>\n      <td>1.0</td>\n      <td>4</td>\n      <td>1000</td>\n      <td>1000</td>\n      <td>857 170th Pl NE</td>\n      <td>Bellevue</td>\n    </tr>\n    <tr>\n      <th>4</th>\n      <td>4.0</td>\n      <td>2.50</td>\n      <td>1940</td>\n      <td>10500</td>\n      <td>1.0</td>\n      <td>4</td>\n      <td>1140</td>\n      <td>800</td>\n      <td>9105 170th Ave NE</td>\n      <td>Redmond</td>\n    </tr>\n  </tbody>\n</table>\n</div>"
     },
     "metadata": {},
     "execution_count": 68
    }
   ],
   "source": [
    "\n",
    "df.head()"
   ]
  },
  {
   "cell_type": "code",
   "execution_count": 67,
   "metadata": {},
   "outputs": [
    {
     "output_type": "execute_result",
     "data": {
      "text/plain": "      bedrooms  bathrooms  sqft_living  sqft_lot  floors  condition  \\\n860        2.0        1.0         1490      3825     1.0          3   \n3836       5.0        1.0         1590      6700     1.5          3   \n1891       3.0        2.5         1520      2208     2.0          3   \n4572       6.0        4.5         3830      4800     3.0          3   \n4453       3.0        1.0         1300      6710     1.0          4   \n\n      sqft_above  sqft_basement             street           city  \n860          860            630   7008 19th Ave NW        Seattle  \n3836        1090            500  10626 12th Ave SW        Seattle  \n1891        1040            480    2537 13th Ave W        Seattle  \n4572        3050            780     2425 3rd Ave W        Seattle  \n4453        1300              0   2760 72nd Ave SE  Mercer Island  ",
      "text/html": "<div>\n<style scoped>\n    .dataframe tbody tr th:only-of-type {\n        vertical-align: middle;\n    }\n\n    .dataframe tbody tr th {\n        vertical-align: top;\n    }\n\n    .dataframe thead th {\n        text-align: right;\n    }\n</style>\n<table border=\"1\" class=\"dataframe\">\n  <thead>\n    <tr style=\"text-align: right;\">\n      <th></th>\n      <th>bedrooms</th>\n      <th>bathrooms</th>\n      <th>sqft_living</th>\n      <th>sqft_lot</th>\n      <th>floors</th>\n      <th>condition</th>\n      <th>sqft_above</th>\n      <th>sqft_basement</th>\n      <th>street</th>\n      <th>city</th>\n    </tr>\n  </thead>\n  <tbody>\n    <tr>\n      <th>860</th>\n      <td>2.0</td>\n      <td>1.0</td>\n      <td>1490</td>\n      <td>3825</td>\n      <td>1.0</td>\n      <td>3</td>\n      <td>860</td>\n      <td>630</td>\n      <td>7008 19th Ave NW</td>\n      <td>Seattle</td>\n    </tr>\n    <tr>\n      <th>3836</th>\n      <td>5.0</td>\n      <td>1.0</td>\n      <td>1590</td>\n      <td>6700</td>\n      <td>1.5</td>\n      <td>3</td>\n      <td>1090</td>\n      <td>500</td>\n      <td>10626 12th Ave SW</td>\n      <td>Seattle</td>\n    </tr>\n    <tr>\n      <th>1891</th>\n      <td>3.0</td>\n      <td>2.5</td>\n      <td>1520</td>\n      <td>2208</td>\n      <td>2.0</td>\n      <td>3</td>\n      <td>1040</td>\n      <td>480</td>\n      <td>2537 13th Ave W</td>\n      <td>Seattle</td>\n    </tr>\n    <tr>\n      <th>4572</th>\n      <td>6.0</td>\n      <td>4.5</td>\n      <td>3830</td>\n      <td>4800</td>\n      <td>3.0</td>\n      <td>3</td>\n      <td>3050</td>\n      <td>780</td>\n      <td>2425 3rd Ave W</td>\n      <td>Seattle</td>\n    </tr>\n    <tr>\n      <th>4453</th>\n      <td>3.0</td>\n      <td>1.0</td>\n      <td>1300</td>\n      <td>6710</td>\n      <td>1.0</td>\n      <td>4</td>\n      <td>1300</td>\n      <td>0</td>\n      <td>2760 72nd Ave SE</td>\n      <td>Mercer Island</td>\n    </tr>\n  </tbody>\n</table>\n</div>"
     },
     "metadata": {},
     "execution_count": 67
    }
   ],
   "source": [
    "xval.head()"
   ]
  },
  {
   "cell_type": "code",
   "execution_count": 77,
   "metadata": {},
   "outputs": [
    {
     "output_type": "error",
     "ename": "TypeError",
     "evalue": "house_model() takes 0 positional arguments but 1 was given",
     "traceback": [
      "\u001b[1;31m---------------------------------------------------------------------------\u001b[0m",
      "\u001b[1;31mTypeError\u001b[0m                                 Traceback (most recent call last)",
      "\u001b[1;32m&lt;ipython-input-77-931538d6af83&gt;\u001b[0m in \u001b[0;36m&lt;module&gt;\u001b[1;34m\u001b[0m\n\u001b[1;32m----&gt; 1\u001b[1;33m \u001b[0mprediction\u001b[0m \u001b[1;33m=\u001b[0m \u001b[0mhouse_model\u001b[0m\u001b[1;33m(\u001b[0m\u001b[0mxtest\u001b[0m\u001b[1;33m.\u001b[0m\u001b[0miloc\u001b[0m\u001b[1;33m[\u001b[0m\u001b[1;36m0\u001b[0m\u001b[1;33m]\u001b[0m\u001b[1;33m.\u001b[0m\u001b[0mvalues\u001b[0m\u001b[1;33m)\u001b[0m\u001b[1;33m\u001b[0m\u001b[1;33m\u001b[0m\u001b[0m\n\u001b[0m\u001b[0;32m      2\u001b[0m \u001b[0mprint\u001b[0m\u001b[1;33m(\u001b[0m\u001b[0mprediction\u001b[0m\u001b[1;33m)\u001b[0m\u001b[1;33m\u001b[0m\u001b[1;33m\u001b[0m\u001b[0m\n",
      "\u001b[1;31mTypeError\u001b[0m: house_model() takes 0 positional arguments but 1 was given"
     ]
    }
   ],
   "source": [
    "prediction = house_model(xtest.iloc[0].values)\n",
    "print(prediction)"
   ]
  },
  {
   "cell_type": "code",
   "execution_count": 76,
   "metadata": {
    "tags": []
   },
   "outputs": [
    {
     "output_type": "execute_result",
     "data": {
      "text/plain": "3.0"
     },
     "metadata": {},
     "execution_count": 76
    }
   ],
   "source": [
    "xtest.iloc[0].values\n"
   ]
  },
  {
   "cell_type": "code",
   "execution_count": null,
   "metadata": {},
   "outputs": [],
   "source": []
  }
 ]
}